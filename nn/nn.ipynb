{
 "cells": [
  {
   "cell_type": "code",
   "execution_count": 36,
   "id": "72f62eae-c6ca-4e19-8f2f-f899c697975d",
   "metadata": {},
   "outputs": [],
   "source": [
    "from sklearn.neural_network import MLPClassifier\n",
    "from sklearn.ensemble import RandomForestClassifier\n",
    "from sklearn.datasets import fetch_20newsgroups\n",
    "from sklearn.linear_model import SGDClassifier\n",
    "from sklearn.naive_bayes import MultinomialNB\n",
    "from sklearn.feature_extraction.text import TfidfTransformer, CountVectorizer\n",
    "from sklearn.pipeline import Pipeline\n",
    "from sklearn.metrics import accuracy_score, precision_score, recall_score, f1_score\n",
    "\n",
    "import pandas as pd\n",
    "import matplotlib.pyplot as plt"
   ]
  },
  {
   "cell_type": "markdown",
   "id": "f63c9f5b-a08e-4294-bee0-156971823ac3",
   "metadata": {},
   "source": [
    "Loading test and train data, tokenizing:"
   ]
  },
  {
   "cell_type": "code",
   "execution_count": 2,
   "id": "001c1663-5ee1-4d77-902b-2b4ff8809e58",
   "metadata": {},
   "outputs": [],
   "source": [
    "categories = ['alt.atheism', 'soc.religion.christian']\n",
    "train_data = fetch_20newsgroups(subset='train', categories=categories, \n",
    "                                shuffle=True, random_state=1)\n",
    "test_data = fetch_20newsgroups(subset='test', categories=categories, \n",
    "                                shuffle=True, random_state=1)\n",
    "docs_test = test_data.data\n",
    "\n",
    "# CountVectorizer uses bag of words\n",
    "count_vect = CountVectorizer()\n",
    "X_train_counts = count_vect.fit_transform(train_data.data)\n",
    "X_train_counts.shape\n",
    "\n",
    "\n",
    "# Fit to tfidf\n",
    "tfidf_transformer = TfidfTransformer()\n",
    "X_train_tfidf = tfidf_transformer.fit_transform(X_train_counts)"
   ]
  },
  {
   "cell_type": "markdown",
   "id": "6c05001a-341e-4086-8857-81a1f84acac8",
   "metadata": {},
   "source": [
    "Creating pipelines"
   ]
  },
  {
   "cell_type": "code",
   "execution_count": 37,
   "id": "e79e052b-e5de-4aec-b4a8-76215b23439b",
   "metadata": {},
   "outputs": [],
   "source": [
    "nb = Pipeline([\n",
    "    ('vect', CountVectorizer()),\n",
    "    ('tfidf', TfidfTransformer()),\n",
    "    ('clf', MultinomialNB()),\n",
    "])\n",
    "\n",
    "svm = Pipeline([\n",
    "    ('vect', CountVectorizer()),\n",
    "    ('tfidf', TfidfTransformer()),\n",
    "    ('clf', SGDClassifier())])\n",
    "\n",
    "rf = Pipeline([\n",
    "    ('vect', CountVectorizer()),\n",
    "    ('tfidf', TfidfTransformer()),\n",
    "    ('clf', RandomForestClassifier()),\n",
    "])\n",
    "\n",
    "nn = Pipeline([\n",
    "    ('vect', CountVectorizer()),\n",
    "    ('tfidf', TfidfTransformer()),\n",
    "    ('clf', MLPClassifier()),\n",
    "])"
   ]
  },
  {
   "cell_type": "markdown",
   "id": "67c0095a-5f4a-419b-b0c9-4aa43dcdb313",
   "metadata": {},
   "source": [
    "Defining a handy scoring and printing function "
   ]
  },
  {
   "cell_type": "code",
   "execution_count": 4,
   "id": "33a7bcc6-3ada-4d32-85cd-3f0adf1023f7",
   "metadata": {},
   "outputs": [],
   "source": [
    "def score(y_true, y_pred):\n",
    "    return {\"accuracy_score\": accuracy_score(y_true, y_pred), \"precision_score\": precision_score(y_true, y_pred), \"recall_score\":recall_score(y_true, y_pred), \"f1_score\":f1_score(y_true, y_pred)}"
   ]
  },
  {
   "cell_type": "markdown",
   "id": "57611b6f-5adf-410d-9c34-6df04edc79f9",
   "metadata": {},
   "source": [
    "Naive Bayes Classifier"
   ]
  },
  {
   "cell_type": "code",
   "execution_count": 39,
   "id": "2f4822e1-b9f4-471c-beed-5aeb6e5679ac",
   "metadata": {},
   "outputs": [
    {
     "name": "stdout",
     "output_type": "stream",
     "text": [
      "{'accuracy_score': 0.8521617852161785, 'precision_score': 0.992462311557789, 'recall_score': 0.7931726907630522, 'f1_score': 0.8816964285714286}\n"
     ]
    }
   ],
   "source": [
    "nb.fit(train_data.data, train_data.target)\n",
    "\n",
    "predicted = nb.predict(docs_test)\n",
    "nb_scores = score(predicted, test_data.target)\n",
    "print(nb_scores)"
   ]
  },
  {
   "cell_type": "markdown",
   "id": "df767312-0a61-4a1c-9b0f-afd87d3ae55c",
   "metadata": {},
   "source": [
    "SVM classifier"
   ]
  },
  {
   "cell_type": "code",
   "execution_count": 40,
   "id": "795bcee1-0596-4100-9658-4ea6e67b4b36",
   "metadata": {},
   "outputs": [
    {
     "name": "stdout",
     "output_type": "stream",
     "text": [
      "{'accuracy_score': 0.9316596931659693, 'precision_score': 0.9874371859296482, 'recall_score': 0.8993135011441648, 'f1_score': 0.941317365269461}\n"
     ]
    }
   ],
   "source": [
    "svm.fit(train_data.data, train_data.target)\n",
    "\n",
    "predicted = svm.predict(docs_test)\n",
    "svm_scores = score(predicted, test_data.target)\n",
    "print(svm_scores)"
   ]
  },
  {
   "cell_type": "markdown",
   "id": "ae0ec594-4787-4740-b308-f40a171b024c",
   "metadata": {},
   "source": [
    "MultiLayer Perceptron (Neural Network) classifier"
   ]
  },
  {
   "cell_type": "code",
   "execution_count": 41,
   "id": "d49a3492-8cb3-400b-9597-c94de3bc114f",
   "metadata": {},
   "outputs": [
    {
     "name": "stdout",
     "output_type": "stream",
     "text": [
      "{'accuracy_score': 0.9470013947001394, 'precision_score': 0.992462311557789, 'recall_score': 0.9186046511627907, 'f1_score': 0.9541062801932367}\n"
     ]
    }
   ],
   "source": [
    "nn.fit(train_data.data, train_data.target)\n",
    "\n",
    "docs_test = test_data.data\n",
    "predicted = nn.predict(docs_test)\n",
    "nn_scores = score(predicted, test_data.target)\n",
    "print(nn_scores)"
   ]
  },
  {
   "cell_type": "markdown",
   "id": "7cd5227d-d992-4b20-bcdd-c790096db868",
   "metadata": {},
   "source": [
    "RandomForest ensemble classifier"
   ]
  },
  {
   "cell_type": "code",
   "execution_count": 42,
   "id": "42b697e7-effb-4efa-aaa6-52c2bc714058",
   "metadata": {},
   "outputs": [
    {
     "name": "stdout",
     "output_type": "stream",
     "text": [
      "{'accuracy_score': 0.9121338912133892, 'precision_score': 0.9949748743718593, 'recall_score': 0.8665207877461707, 'f1_score': 0.9263157894736843}\n"
     ]
    }
   ],
   "source": [
    "rf.fit(train_data.data, train_data.target)\n",
    "\n",
    "docs_test = test_data.data\n",
    "predicted = rf.predict(docs_test)\n",
    "rf_scores = score(predicted, test_data.target)\n",
    "print(rf_scores)"
   ]
  },
  {
   "cell_type": "markdown",
   "id": "2e04ab47-ba33-44bc-9d70-f36a0d2bccf6",
   "metadata": {},
   "source": [
    "Plotting Differences "
   ]
  },
  {
   "cell_type": "code",
   "execution_count": 9,
   "id": "ae2d24d5-3dbf-4451-9294-0cd35bb60533",
   "metadata": {},
   "outputs": [
    {
     "data": {
      "text/html": [
       "<div>\n",
       "<style scoped>\n",
       "    .dataframe tbody tr th:only-of-type {\n",
       "        vertical-align: middle;\n",
       "    }\n",
       "\n",
       "    .dataframe tbody tr th {\n",
       "        vertical-align: top;\n",
       "    }\n",
       "\n",
       "    .dataframe thead th {\n",
       "        text-align: right;\n",
       "    }\n",
       "</style>\n",
       "<table border=\"1\" class=\"dataframe\">\n",
       "  <thead>\n",
       "    <tr style=\"text-align: right;\">\n",
       "      <th></th>\n",
       "      <th>index</th>\n",
       "      <th>accuracy_score</th>\n",
       "      <th>precision_score</th>\n",
       "      <th>recall_score</th>\n",
       "      <th>f1_score</th>\n",
       "      <th>model</th>\n",
       "    </tr>\n",
       "  </thead>\n",
       "  <tbody>\n",
       "    <tr>\n",
       "      <th>0</th>\n",
       "      <td>NB</td>\n",
       "      <td>0.852162</td>\n",
       "      <td>0.992462</td>\n",
       "      <td>0.793173</td>\n",
       "      <td>0.881696</td>\n",
       "      <td>NB</td>\n",
       "    </tr>\n",
       "    <tr>\n",
       "      <th>1</th>\n",
       "      <td>SVM</td>\n",
       "      <td>0.934449</td>\n",
       "      <td>0.987437</td>\n",
       "      <td>0.903448</td>\n",
       "      <td>0.943577</td>\n",
       "      <td>SVM</td>\n",
       "    </tr>\n",
       "    <tr>\n",
       "      <th>2</th>\n",
       "      <td>NN</td>\n",
       "      <td>0.949791</td>\n",
       "      <td>0.992462</td>\n",
       "      <td>0.922897</td>\n",
       "      <td>0.956416</td>\n",
       "      <td>NN</td>\n",
       "    </tr>\n",
       "    <tr>\n",
       "      <th>3</th>\n",
       "      <td>RF</td>\n",
       "      <td>0.902371</td>\n",
       "      <td>0.994975</td>\n",
       "      <td>0.853448</td>\n",
       "      <td>0.918794</td>\n",
       "      <td>RF</td>\n",
       "    </tr>\n",
       "  </tbody>\n",
       "</table>\n",
       "</div>"
      ],
      "text/plain": [
       "  index  accuracy_score  precision_score  recall_score  f1_score model\n",
       "0    NB        0.852162         0.992462      0.793173  0.881696    NB\n",
       "1   SVM        0.934449         0.987437      0.903448  0.943577   SVM\n",
       "2    NN        0.949791         0.992462      0.922897  0.956416    NN\n",
       "3    RF        0.902371         0.994975      0.853448  0.918794    RF"
      ]
     },
     "execution_count": 9,
     "metadata": {},
     "output_type": "execute_result"
    }
   ],
   "source": [
    "scores = [nb_scores, svm_scores, nn_scores, rf_scores]\n",
    "f1s = [d['f1_score'] for d in scores]\n",
    "models = [\"NB\", \"SVM\", \"NN\", \"RF\"]\n",
    "df = pd.DataFrame.from_dict(scores).T\n",
    "df.columns = models\n",
    "df = df.T\n",
    "df['model'] = models\n",
    "df.reset_index()"
   ]
  },
  {
   "cell_type": "code",
   "execution_count": 10,
   "id": "8f808ba3-ff0a-4e4c-8b40-eaa6f188891d",
   "metadata": {},
   "outputs": [
    {
     "data": {
      "text/plain": [
       "Text(0, 0.5, 'percent')"
      ]
     },
     "execution_count": 10,
     "metadata": {},
     "output_type": "execute_result"
    },
    {
     "data": {
      "image/png": "[encoded data removed]",
      "text/plain": [
       "<Figure size 640x480 with 1 Axes>"
      ]
     },
     "metadata": {},
     "output_type": "display_data"
    }
   ],
   "source": [
    "df.plot(x=\"model\", y=[\"accuracy_score\", \"precision_score\", \"recall_score\", \"f1_score\"], kind=\"bar\")\n",
    "plt.legend(bbox_to_anchor=(1.0, 1.0))\n",
    "plt.ylabel(\"percent\")"
   ]
  },
  {
   "cell_type": "markdown",
   "id": "cb260fec-4d08-4b1e-bf46-faf74a65aa88",
   "metadata": {},
   "source": [
    "Getting some output data for each model."
   ]
  },
  {
   "cell_type": "code",
   "execution_count": 89,
   "id": "3822544a-019d-4419-98ab-d4eddad7e402",
   "metadata": {},
   "outputs": [
    {
     "name": "stdout",
     "output_type": "stream",
     "text": [
      "God is love : soc.religion.christian\n",
      "God isn't real : soc.religion.christian\n"
     ]
    }
   ],
   "source": [
    "golden = ['God is love', 'God isn\\'t real']  # some fake sentences that I consider to be \"gold\"\n",
    "svm_preds = svm.predict(golden)\n",
    "for i, g in enumerate(golden):\n",
    "    print(f\"{g} : {train_data.target_names[svm_preds[i]]}\")"
   ]
  },
  {
   "cell_type": "code",
   "execution_count": 90,
   "id": "9e2ee409-6ad5-4d17-93ed-62ae9439fb98",
   "metadata": {},
   "outputs": [
    {
     "name": "stdout",
     "output_type": "stream",
     "text": [
      "God is love : soc.religion.christian\n",
      "God isn't real : alt.atheism\n"
     ]
    }
   ],
   "source": [
    "nn_preds = nn.predict(golden)\n",
    "for i, g in enumerate(golden):\n",
    "    print(f\"{g} : {train_data.target_names[nn_preds[i]]}\")"
   ]
  },
  {
   "cell_type": "code",
   "execution_count": 91,
   "id": "9dd3b03a-e7b1-4946-b5e3-9c5bd0854f17",
   "metadata": {},
   "outputs": [
    {
     "name": "stdout",
     "output_type": "stream",
     "text": [
      "God is love : soc.religion.christian\n",
      "God isn't real : soc.religion.christian\n"
     ]
    }
   ],
   "source": [
    "rf_preds = rf.predict(golden)\n",
    "for i, g in enumerate(golden):\n",
    "    print(f\"{g} : {train_data.target_names[rf_preds[i]]}\")"
   ]
  },
  {
   "cell_type": "code",
   "execution_count": 92,
   "id": "e57d476c-2b91-4a4e-98fe-62ea350106cc",
   "metadata": {},
   "outputs": [
    {
     "name": "stdout",
     "output_type": "stream",
     "text": [
      "God is love : soc.religion.christian\n",
      "God isn't real : soc.religion.christian\n"
     ]
    }
   ],
   "source": [
    "nb_preds = nb.predict(golden)\n",
    "for i, g in enumerate(golden):\n",
    "    print(f\"{g} : {train_data.target_names[nb_preds[i]]}\")"
   ]
  },
  {
   "cell_type": "markdown",
   "id": "35420aea-7ef1-4636-b8f6-dbf09d3c180d",
   "metadata": {},
   "source": [
    "The nerual network was the only one that guessed correctly "
   ]
  }
 ],
 "metadata": {
  "kernelspec": {
   "display_name": "Python 3 (ipykernel)",
   "language": "python",
   "name": "python3"
  },
  "language_info": {
   "codemirror_mode": {
    "name": "ipython",
    "version": 3
   },
   "file_extension": ".py",
   "mimetype": "text/x-python",
   "name": "python",
   "nbconvert_exporter": "python",
   "pygments_lexer": "ipython3",
   "version": "3.9.13"
  }
 },
 "nbformat": 4,
 "nbformat_minor": 5
}
